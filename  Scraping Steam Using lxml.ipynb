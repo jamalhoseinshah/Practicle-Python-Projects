{
 "cells": [
  {
   "cell_type": "markdown",
   "id": "76fd278e",
   "metadata": {},
   "source": [
    "# Scraping Steam Using lxml\n",
    "\n",
    "Importantly:\n",
    "All HTML pages have a series of HTML elements, consisting of a set of tags and attributes. HTML elements are the building blocks of a web page. A tag tells the web browser where an element begins and ends, whereas an attribute describes the characteristics of an element.\n",
    "\n",
    "In order to read these tags with following procedures. \n"
   ]
  },
  {
   "cell_type": "code",
   "execution_count": 1,
   "id": "c6101d03",
   "metadata": {},
   "outputs": [],
   "source": [
    "import requests\n",
    "import lxml.html"
   ]
  },
  {
   "cell_type": "code",
   "execution_count": 2,
   "id": "ad6d1262",
   "metadata": {},
   "outputs": [],
   "source": [
    "html = requests.get('https://store.steampowered.com/explore/new/')\n",
    "doc = lxml.html.fromstring(html.content)"
   ]
  },
  {
   "cell_type": "markdown",
   "id": "957ed5d1",
   "metadata": {},
   "source": [
    "Particular selection of option in the above given website such ‘Popular New Releases’ "
   ]
  },
  {
   "cell_type": "code",
   "execution_count": 3,
   "id": "f5dec50f",
   "metadata": {},
   "outputs": [],
   "source": [
    "new_releases = doc.xpath('//div[@id=\"tab_newreleases_content\"]')[0]"
   ]
  },
  {
   "cell_type": "markdown",
   "id": "95e825a8",
   "metadata": {},
   "source": [
    "The title is contained in a div with a class of tab_item_name."
   ]
  },
  {
   "cell_type": "code",
   "execution_count": 4,
   "id": "7ea35bad",
   "metadata": {},
   "outputs": [],
   "source": [
    "titles = new_releases.xpath('.//div[@class=\"tab_item_name\"]/text()')"
   ]
  },
  {
   "cell_type": "markdown",
   "id": "825268c5",
   "metadata": {},
   "source": [
    "Extract the title from website "
   ]
  },
  {
   "cell_type": "code",
   "execution_count": 5,
   "id": "139db80d",
   "metadata": {},
   "outputs": [
    {
     "name": "stdout",
     "output_type": "stream",
     "text": [
      "['Martial Law', 'The Planet Crafter: Prologue', 'The Two of Us', 'Arena of Kings', 'Chill Corner', \"Five Nights at Freddy's: Security Breach\", 'Eraser', 'Bitburner', 'The Chronicles Of Myrtana: Archolos', 'GTFO', 'Halo Infinite (Campaign)', 'Knell of St. Godhrkar', 'Century: Age of Ashes', 'Propnight', 'Farming Simulator 22', 'Snake Force', 'Gunfire Reborn', 'DYSMANTLE', 'Halo Infinite', 'Car Detailing Simulator: Prologue', 'Jurassic World Evolution 2', 'Forza Horizon 5', 'Cell to Singularity - Evolution Never Ends', 'Animal Shelter: Prologue', 'Idle Big Devil', 'Unpacking', 'Sea Brawl Autobattler', 'Crab Game', 'Age of Empires IV', 'Age of Empires IV', \"Marvel's Guardians of the Galaxy\", 'SCP: Containment Breach Multiplayer', 'The Dark Pictures Anthology: House of Ashes', 'Gloomhaven', 'Inscryption', 'Escape Simulator']\n"
     ]
    }
   ],
   "source": [
    "print(titles)"
   ]
  },
  {
   "cell_type": "markdown",
   "id": "8352fe20",
   "metadata": {},
   "source": [
    "Extract the prices from website by specific location such as Popular new releases tag"
   ]
  },
  {
   "cell_type": "code",
   "execution_count": 6,
   "id": "0f6577c0",
   "metadata": {},
   "outputs": [],
   "source": [
    "prices = new_releases.xpath('.//div[@class=\"discount_final_price\"]/text()')"
   ]
  },
  {
   "cell_type": "code",
   "execution_count": 7,
   "id": "fd1fed40",
   "metadata": {},
   "outputs": [
    {
     "name": "stdout",
     "output_type": "stream",
     "text": [
      "['Free', 'Free To Play', 'Free', 'Free To Play', 'Free', '$12.99', 'Free', 'Free To Play', 'Free', '$9.74', '$59.99', 'Free To Play', 'Free To Play', '$7.37', '$34.99', 'Free To Play', '$6.14', '$5.15', 'Free To Play', 'Free', '$13.99', '$29.50', 'Free To Play', 'Free', 'Free To Play', '$8.19', 'Free To Play', 'Free', '$17.99', '$17.99', '$32.49', 'Free To Play', '$19.79', '$9.59', '$7.99', '$5.59']\n"
     ]
    }
   ],
   "source": [
    "print(prices)"
   ]
  },
  {
   "cell_type": "code",
   "execution_count": 8,
   "id": "703a2a72",
   "metadata": {},
   "outputs": [],
   "source": [
    "platforms_div = new_releases.xpath('.//div[@class=\"tab_item_details\"]')\n",
    "total_platforms = []\n",
    "\n",
    "for game in platforms_div:\n",
    "    temp = game.xpath('.//span[contains(@class, \"platform_img\")]')\n",
    "platforms = [t.get('class').split(' ')[-1] for t in temp]\n",
    "if 'hmd_separator' in platforms:\n",
    "    platforms.remove('hmd_separator')\n",
    "    total_platforms.append(platforms)"
   ]
  },
  {
   "cell_type": "markdown",
   "id": "6f94832b",
   "metadata": {},
   "source": [
    " Extract details tiles , prices,tags and platforms"
   ]
  },
  {
   "cell_type": "code",
   "execution_count": 13,
   "id": "9ff4272f",
   "metadata": {},
   "outputs": [],
   "source": [
    "import requests\n",
    "import lxml.html"
   ]
  },
  {
   "cell_type": "code",
   "execution_count": 15,
   "id": "f8c55887",
   "metadata": {},
   "outputs": [
    {
     "name": "stdout",
     "output_type": "stream",
     "text": [
      "[{'title': 'Martial Law', 'price': 'Free', 'tags': ['Pixel Graphics', 'Atmospheric', 'Choices Matter', 'Adventure'], 'platforms': ['win', 'mac', 'linux']}, {'title': 'The Planet Crafter: Prologue', 'price': 'Free To Play', 'tags': ['Open World Survival Craft', 'Survival', 'Open World', 'Exploration'], 'platforms': ['win']}, {'title': 'The Two of Us', 'price': 'Free', 'tags': ['Strategy', '2D Platformer', 'Online Co-Op', 'Puzzle Platformer'], 'platforms': ['win']}, {'title': 'Arena of Kings', 'price': 'Free To Play', 'tags': ['Free to Play', 'PvP', 'MOBA', 'Competitive'], 'platforms': ['win']}, {'title': 'Chill Corner', 'price': 'Free', 'tags': ['Relaxing', 'Atmospheric', 'Casual', 'Utilities'], 'platforms': ['win']}, {'title': \"Five Nights at Freddy's: Security Breach\", 'price': '$12.99', 'tags': ['Horror', 'Survival Horror', 'Singleplayer', 'Robots'], 'platforms': ['win']}, {'title': 'Eraser', 'price': 'Free', 'tags': ['3D Platformer', 'Indie', 'Online Co-Op', 'Difficult'], 'platforms': ['win']}, {'title': 'Bitburner', 'price': 'Free To Play', 'tags': ['Programming', 'Idler', 'Automation', 'Cyberpunk'], 'platforms': ['win', 'mac', 'linux']}, {'title': 'The Chronicles Of Myrtana: Archolos', 'price': 'Free', 'tags': ['RPG', 'Open World', 'Story Rich', 'Singleplayer'], 'platforms': ['win']}, {'title': 'GTFO', 'price': '$9.74', 'tags': ['Co-op', 'Online Co-Op', 'Horror', 'FPS'], 'platforms': ['win']}, {'title': 'Halo Infinite (Campaign)', 'price': '$59.99', 'tags': ['Action', 'Adventure', 'Shooter', 'FPS'], 'platforms': ['win']}, {'title': 'Knell of St. Godhrkar', 'price': 'Free To Play', 'tags': ['Adventure', 'RPG', 'Strategy', 'Visual Novel'], 'platforms': ['win', 'mac']}, {'title': 'Century: Age of Ashes', 'price': 'Free To Play', 'tags': ['Free to Play', 'Dragons', 'Multiplayer', 'Action'], 'platforms': ['win']}, {'title': 'Propnight', 'price': '$7.37', 'tags': ['Action', 'Multiplayer', 'Horror', 'Survival Horror'], 'platforms': ['win']}, {'title': 'Farming Simulator 22', 'price': '$34.99', 'tags': ['Co-op', 'Simulation', 'Farming Sim', 'Agriculture'], 'platforms': ['win', 'mac']}, {'title': 'Snake Force', 'price': 'Free To Play', 'tags': ['Action', 'Shooter', 'Top-Down Shooter', '3D'], 'platforms': ['win', 'mac']}, {'title': 'Gunfire Reborn', 'price': '$6.14', 'tags': ['FPS', 'Co-op', 'Roguelite', 'Online Co-Op'], 'platforms': ['win']}, {'title': 'DYSMANTLE', 'price': '$5.15', 'tags': ['Survival', 'Open World', 'Crafting', 'RPG'], 'platforms': ['win', 'mac']}, {'title': 'Halo Infinite', 'price': 'Free To Play', 'tags': ['FPS', 'Free to Play', 'Multiplayer', 'Action'], 'platforms': ['win']}, {'title': 'Car Detailing Simulator: Prologue', 'price': 'Free', 'tags': ['Simulation', 'Racing', 'Casual', 'Education'], 'platforms': ['win']}, {'title': 'Jurassic World Evolution 2', 'price': '$13.99', 'tags': ['Dinosaurs', 'Simulation', 'Building', 'Strategy'], 'platforms': ['win']}, {'title': 'Forza Horizon 5', 'price': '$29.50', 'tags': ['Racing', 'Open World', 'Driving', 'Adventure'], 'platforms': ['win']}, {'title': 'Cell to Singularity - Evolution Never Ends', 'price': 'Free To Play', 'tags': ['Clicker', 'Free to Play', 'Simulation', 'Science'], 'platforms': ['win', 'mac']}, {'title': 'Animal Shelter: Prologue', 'price': 'Free', 'tags': ['Adventure', 'Casual', 'Simulation', 'Strategy'], 'platforms': ['win']}, {'title': 'Idle Big Devil', 'price': 'Free To Play', 'tags': ['Free to Play', 'Strategy', 'Casual', 'Idler'], 'platforms': ['win', 'mac']}, {'title': 'Unpacking', 'price': '$8.19', 'tags': ['Relaxing', 'Story Rich', 'Pixel Graphics', 'Cute'], 'platforms': ['win', 'mac', 'linux']}, {'title': 'Sea Brawl Autobattler', 'price': 'Free To Play', 'tags': ['Trading Card Game', 'Turn-Based Tactics', 'Creature Collector', 'PvP'], 'platforms': ['win', 'mac']}, {'title': 'Crab Game', 'price': 'Free', 'tags': ['Psychological Horror', 'Multiplayer', 'Free to Play', 'Battle Royale'], 'platforms': ['win', 'mac', 'linux']}, {'title': 'Age of Empires IV', 'price': '$17.99', 'tags': ['Strategy', 'RTS', 'Multiplayer', 'Medieval'], 'platforms': ['win']}, {'title': 'Age of Empires IV', 'price': '$17.99', 'tags': ['Strategy', 'RTS', 'Multiplayer', 'Medieval'], 'platforms': ['win']}, {'title': \"Marvel's Guardians of the Galaxy\", 'price': '$32.49', 'tags': ['Action', 'Story Rich', 'Action-Adventure', 'Exploration'], 'platforms': ['win']}, {'title': 'SCP: Containment Breach Multiplayer', 'price': 'Free To Play', 'tags': ['Horror', 'Survival', 'Co-op', 'Online Co-Op'], 'platforms': ['win']}, {'title': 'The Dark Pictures Anthology: House of Ashes', 'price': '$19.79', 'tags': ['Horror', 'Choices Matter', 'Survival Horror', 'Psychological Horror'], 'platforms': ['win']}, {'title': 'Gloomhaven', 'price': '$9.59', 'tags': ['Tabletop', 'Co-op', 'RPG', 'Turn-Based'], 'platforms': ['win', 'mac']}, {'title': 'Inscryption', 'price': '$7.99', 'tags': ['Card Battler', 'Card Game', 'Deckbuilding', 'Story Rich'], 'platforms': ['win']}, {'title': 'Escape Simulator', 'price': '$5.59', 'tags': ['Puzzle', 'Co-op', 'Multiplayer', 'Escape Room'], 'platforms': ['win', 'mac', 'linux']}]\n"
     ]
    }
   ],
   "source": [
    "    html = requests.get('https://store.steampowered.com/explore/new/')\n",
    "    doc = lxml.html.fromstring(html.content)\n",
    "    new_releases = doc.xpath('//div[@id=\"tab_newreleases_content\"]')[0]\n",
    "\n",
    "    titles = new_releases.xpath('.//div[@class=\"tab_item_name\"]/text()')\n",
    "    prices = new_releases.xpath('.//div[@class=\"discount_final_price\"]/text()')\n",
    "\n",
    "    tags = []\n",
    "    for tag in new_releases.xpath('.//div[@class=\"tab_item_top_tags\"]'):\n",
    "        tags.append(tag.text_content())\n",
    "\n",
    "    tags = [tag.split(', ') for tag in tags]\n",
    "    platforms_div = new_releases.xpath('.//div[@class=\"tab_item_details\"]')\n",
    "    total_platforms = []\n",
    "\n",
    "    for game in platforms_div:\n",
    "        temp = game.xpath('.//span[contains(@class, \"platform_img\")]')\n",
    "        platforms = [t.get('class').split(' ')[-1] for t in temp]\n",
    "        if 'hmd_separator' in platforms:\n",
    "            platforms.remove('hmd_separator')\n",
    "        total_platforms.append(platforms)\n",
    "\n",
    "    output = []\n",
    "    for info in zip(titles,prices, tags, total_platforms):\n",
    "        resp = {}\n",
    "        resp['title'] = info[0]\n",
    "        resp['price'] = info[1]\n",
    "        resp['tags'] = info[2]\n",
    "        resp['platforms'] = info[3]\n",
    "        output.append(resp)\n",
    "\n",
    "    print(output)"
   ]
  },
  {
   "cell_type": "code",
   "execution_count": null,
   "id": "7518267a",
   "metadata": {},
   "outputs": [],
   "source": []
  }
 ],
 "metadata": {
  "kernelspec": {
   "display_name": "Python 3",
   "language": "python",
   "name": "python3"
  },
  "language_info": {
   "codemirror_mode": {
    "name": "ipython",
    "version": 3
   },
   "file_extension": ".py",
   "mimetype": "text/x-python",
   "name": "python",
   "nbconvert_exporter": "python",
   "pygments_lexer": "ipython3",
   "version": "3.8.8"
  }
 },
 "nbformat": 4,
 "nbformat_minor": 5
}
